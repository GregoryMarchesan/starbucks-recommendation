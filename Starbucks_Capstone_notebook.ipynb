{
 "cells": [
  {
   "cell_type": "markdown",
   "metadata": {},
   "source": [
    "# Starbucks Capstone Challenge\n",
    "\n",
    "### Introduction\n",
    "\n",
    "This data set contains simulated data that mimics customer behavior on the Starbucks rewards mobile app. Once every few days, Starbucks sends out an offer to users of the mobile app. An offer can be merely an advertisement for a drink or an actual offer such as a discount or BOGO (buy one get one free). Some users might not receive any offer during certain weeks. \n",
    "\n",
    "Not all users receive the same offer, and that is the challenge to solve with this data set.\n",
    "\n",
    "Your task is to combine transaction, demographic and offer data to determine which demographic groups respond best to which offer type. This data set is a simplified version of the real Starbucks app because the underlying simulator only has one product whereas Starbucks actually sells dozens of products.\n",
    "\n",
    "Every offer has a validity period before the offer expires. As an example, a BOGO offer might be valid for only 5 days. You'll see in the data set that informational offers have a validity period even though these ads are merely providing information about a product; for example, if an informational offer has 7 days of validity, you can assume the customer is feeling the influence of the offer for 7 days after receiving the advertisement.\n",
    "\n",
    "You'll be given transactional data showing user purchases made on the app including the timestamp of purchase and the amount of money spent on a purchase. This transactional data also has a record for each offer that a user receives as well as a record for when a user actually views the offer. There are also records for when a user completes an offer. \n",
    "\n",
    "Keep in mind as well that someone using the app might make a purchase through the app without having received an offer or seen an offer.\n",
    "\n",
    "### Example\n",
    "\n",
    "To give an example, a user could receive a discount offer buy 10 dollars get 2 off on Monday. The offer is valid for 10 days from receipt. If the customer accumulates at least 10 dollars in purchases during the validity period, the customer completes the offer.\n",
    "\n",
    "However, there are a few things to watch out for in this data set. Customers do not opt into the offers that they receive; in other words, a user can receive an offer, never actually view the offer, and still complete the offer. For example, a user might receive the \"buy 10 dollars get 2 dollars off offer\", but the user never opens the offer during the 10 day validity period. The customer spends 15 dollars during those ten days. There will be an offer completion record in the data set; however, the customer was not influenced by the offer because the customer never viewed the offer.\n",
    "\n",
    "### Cleaning\n",
    "\n",
    "This makes data cleaning especially important and tricky.\n",
    "\n",
    "You'll also want to take into account that some demographic groups will make purchases even if they don't receive an offer. From a business perspective, if a customer is going to make a 10 dollar purchase without an offer anyway, you wouldn't want to send a buy 10 dollars get 2 dollars off offer. You'll want to try to assess what a certain demographic group will buy when not receiving any offers.\n",
    "\n",
    "### Final Advice\n",
    "\n",
    "Because this is a capstone project, you are free to analyze the data any way you see fit. For example, you could build a machine learning model that predicts how much someone will spend based on demographics and offer type. Or you could build a model that predicts whether or not someone will respond to an offer. Or, you don't need to build a machine learning model at all. You could develop a set of heuristics that determine what offer you should send to each customer (i.e., 75 percent of women customers who were 35 years old responded to offer A vs 40 percent from the same demographic to offer B, so send offer A)."
   ]
  },
  {
   "cell_type": "markdown",
   "metadata": {},
   "source": [
    "# Data Sets\n",
    "\n",
    "The data is contained in three files:\n",
    "\n",
    "* portfolio.json - containing offer ids and meta data about each offer (duration, type, etc.)\n",
    "* profile.json - demographic data for each customer\n",
    "* transcript.json - records for transactions, offers received, offers viewed, and offers completed\n",
    "\n",
    "Here is the schema and explanation of each variable in the files:\n",
    "\n",
    "**portfolio.json**\n",
    "* id (string) - offer id\n",
    "* offer_type (string) - type of offer ie BOGO, discount, informational\n",
    "* difficulty (int) - minimum required spend to complete an offer\n",
    "* reward (int) - reward given for completing an offer\n",
    "* duration (int) - time for offer to be open, in days\n",
    "* channels (list of strings)\n",
    "\n",
    "**profile.json**\n",
    "* age (int) - age of the customer \n",
    "* became_member_on (int) - date when customer created an app account\n",
    "* gender (str) - gender of the customer (note some entries contain 'O' for other rather than M or F)\n",
    "* id (str) - customer id\n",
    "* income (float) - customer's income\n",
    "\n",
    "**transcript.json**\n",
    "* event (str) - record description (ie transaction, offer received, offer viewed, etc.)\n",
    "* person (str) - customer id\n",
    "* time (int) - time in hours since start of test. The data begins at time t=0\n",
    "* value - (dict of strings) - either an offer id or transaction amount depending on the record\n",
    "\n",
    "**Note:** If you are using the workspace, you will need to go to the terminal and run the command `conda update pandas` before reading in the files. This is because the version of pandas in the workspace cannot read in the transcript.json file correctly, but the newest version of pandas can. You can access the termnal from the orange icon in the top left of this notebook.  \n",
    "\n",
    "You can see how to access the terminal and how the install works using the two images below.  First you need to access the terminal:\n",
    "\n",
    "<img src=\"pic1.png\"/>\n",
    "\n",
    "Then you will want to run the above command:\n",
    "\n",
    "<img src=\"pic2.png\"/>\n",
    "\n",
    "Finally, when you enter back into the notebook (use the jupyter icon again), you should be able to run the below cell without any errors."
   ]
  },
  {
   "cell_type": "code",
   "execution_count": null,
   "metadata": {},
   "outputs": [],
   "source": [
    "import pandas as pd\n",
    "import numpy as np\n",
    "import math\n",
    "import json\n",
    "from tqdm import tqdm\n",
    "%matplotlib inline\n",
    "\n",
    "# read in the json files\n",
    "portfolio = pd.read_json('data/portfolio.json', orient='records', lines=True)\n",
    "profile = pd.read_json('data/profile.json', orient='records', lines=True)\n",
    "transcript = pd.read_json('data/transcript.json', orient='records', lines=True)"
   ]
  },
  {
   "cell_type": "code",
   "execution_count": 63,
   "metadata": {},
   "outputs": [
    {
     "output_type": "execute_result",
     "data": {
      "text/plain": [
       "   reward                      channels  difficulty  duration     offer_type  \\\n",
       "0      10       [email, mobile, social]          10         7           bogo   \n",
       "1      10  [web, email, mobile, social]          10         5           bogo   \n",
       "2       0          [web, email, mobile]           0         4  informational   \n",
       "3       5          [web, email, mobile]           5         7           bogo   \n",
       "4       5                  [web, email]          20        10       discount   \n",
       "5       3  [web, email, mobile, social]           7         7       discount   \n",
       "6       2  [web, email, mobile, social]          10        10       discount   \n",
       "7       0       [email, mobile, social]           0         3  informational   \n",
       "8       5  [web, email, mobile, social]           5         5           bogo   \n",
       "9       2          [web, email, mobile]          10         7       discount   \n",
       "\n",
       "                                 id  \n",
       "0  ae264e3637204a6fb9bb56bc8210ddfd  \n",
       "1  4d5c57ea9a6940dd891ad53e9dbe8da0  \n",
       "2  3f207df678b143eea3cee63160fa8bed  \n",
       "3  9b98b8c7a33c4b65b9aebfe6a799e6d9  \n",
       "4  0b1e1539f2cc45b7b9fa7c272da2e1d7  \n",
       "5  2298d6c36e964ae4a3e7e9706d1fb8c2  \n",
       "6  fafdcd668e3743c1bb461111dcafc2a4  \n",
       "7  5a8bc65990b245e5a138643cd4eb9837  \n",
       "8  f19421c1d4aa40978ebb69ca19b0e20d  \n",
       "9  2906b810c7d4411798c6938adc9daaa5  "
      ],
      "text/html": "<div>\n<style scoped>\n    .dataframe tbody tr th:only-of-type {\n        vertical-align: middle;\n    }\n\n    .dataframe tbody tr th {\n        vertical-align: top;\n    }\n\n    .dataframe thead th {\n        text-align: right;\n    }\n</style>\n<table border=\"1\" class=\"dataframe\">\n  <thead>\n    <tr style=\"text-align: right;\">\n      <th></th>\n      <th>reward</th>\n      <th>channels</th>\n      <th>difficulty</th>\n      <th>duration</th>\n      <th>offer_type</th>\n      <th>id</th>\n    </tr>\n  </thead>\n  <tbody>\n    <tr>\n      <th>0</th>\n      <td>10</td>\n      <td>[email, mobile, social]</td>\n      <td>10</td>\n      <td>7</td>\n      <td>bogo</td>\n      <td>ae264e3637204a6fb9bb56bc8210ddfd</td>\n    </tr>\n    <tr>\n      <th>1</th>\n      <td>10</td>\n      <td>[web, email, mobile, social]</td>\n      <td>10</td>\n      <td>5</td>\n      <td>bogo</td>\n      <td>4d5c57ea9a6940dd891ad53e9dbe8da0</td>\n    </tr>\n    <tr>\n      <th>2</th>\n      <td>0</td>\n      <td>[web, email, mobile]</td>\n      <td>0</td>\n      <td>4</td>\n      <td>informational</td>\n      <td>3f207df678b143eea3cee63160fa8bed</td>\n    </tr>\n    <tr>\n      <th>3</th>\n      <td>5</td>\n      <td>[web, email, mobile]</td>\n      <td>5</td>\n      <td>7</td>\n      <td>bogo</td>\n      <td>9b98b8c7a33c4b65b9aebfe6a799e6d9</td>\n    </tr>\n    <tr>\n      <th>4</th>\n      <td>5</td>\n      <td>[web, email]</td>\n      <td>20</td>\n      <td>10</td>\n      <td>discount</td>\n      <td>0b1e1539f2cc45b7b9fa7c272da2e1d7</td>\n    </tr>\n    <tr>\n      <th>5</th>\n      <td>3</td>\n      <td>[web, email, mobile, social]</td>\n      <td>7</td>\n      <td>7</td>\n      <td>discount</td>\n      <td>2298d6c36e964ae4a3e7e9706d1fb8c2</td>\n    </tr>\n    <tr>\n      <th>6</th>\n      <td>2</td>\n      <td>[web, email, mobile, social]</td>\n      <td>10</td>\n      <td>10</td>\n      <td>discount</td>\n      <td>fafdcd668e3743c1bb461111dcafc2a4</td>\n    </tr>\n    <tr>\n      <th>7</th>\n      <td>0</td>\n      <td>[email, mobile, social]</td>\n      <td>0</td>\n      <td>3</td>\n      <td>informational</td>\n      <td>5a8bc65990b245e5a138643cd4eb9837</td>\n    </tr>\n    <tr>\n      <th>8</th>\n      <td>5</td>\n      <td>[web, email, mobile, social]</td>\n      <td>5</td>\n      <td>5</td>\n      <td>bogo</td>\n      <td>f19421c1d4aa40978ebb69ca19b0e20d</td>\n    </tr>\n    <tr>\n      <th>9</th>\n      <td>2</td>\n      <td>[web, email, mobile]</td>\n      <td>10</td>\n      <td>7</td>\n      <td>discount</td>\n      <td>2906b810c7d4411798c6938adc9daaa5</td>\n    </tr>\n  </tbody>\n</table>\n</div>"
     },
     "metadata": {},
     "execution_count": 63
    }
   ],
   "source": [
    "portfolio"
   ]
  },
  {
   "cell_type": "code",
   "execution_count": 83,
   "metadata": {},
   "outputs": [],
   "source": [
    "portfolio.rename(columns={'id': 'offer'}, inplace=True)"
   ]
  },
  {
   "cell_type": "code",
   "execution_count": 105,
   "metadata": {},
   "outputs": [],
   "source": [
    "for channel in ['email', 'mobile', 'social', 'web']:\n",
    "    portfolio[channel] = portfolio['channels'].apply(lambda row: 1 if (channel in row) else 0)\n",
    "# df.columns = ['team_{}'.format(x+1) for x in df.columns]"
   ]
  },
  {
   "cell_type": "code",
   "execution_count": 107,
   "metadata": {},
   "outputs": [
    {
     "output_type": "execute_result",
     "data": {
      "text/plain": [
       "   reward                      channels  difficulty  duration     offer_type  \\\n",
       "0      10       [email, mobile, social]          10         7           bogo   \n",
       "1      10  [web, email, mobile, social]          10         5           bogo   \n",
       "2       0          [web, email, mobile]           0         4  informational   \n",
       "3       5          [web, email, mobile]           5         7           bogo   \n",
       "4       5                  [web, email]          20        10       discount   \n",
       "5       3  [web, email, mobile, social]           7         7       discount   \n",
       "6       2  [web, email, mobile, social]          10        10       discount   \n",
       "7       0       [email, mobile, social]           0         3  informational   \n",
       "8       5  [web, email, mobile, social]           5         5           bogo   \n",
       "9       2          [web, email, mobile]          10         7       discount   \n",
       "\n",
       "                              offer  email  mobile  social  web  \n",
       "0  ae264e3637204a6fb9bb56bc8210ddfd      1       1       1    0  \n",
       "1  4d5c57ea9a6940dd891ad53e9dbe8da0      1       1       1    1  \n",
       "2  3f207df678b143eea3cee63160fa8bed      1       1       0    1  \n",
       "3  9b98b8c7a33c4b65b9aebfe6a799e6d9      1       1       0    1  \n",
       "4  0b1e1539f2cc45b7b9fa7c272da2e1d7      1       0       0    1  \n",
       "5  2298d6c36e964ae4a3e7e9706d1fb8c2      1       1       1    1  \n",
       "6  fafdcd668e3743c1bb461111dcafc2a4      1       1       1    1  \n",
       "7  5a8bc65990b245e5a138643cd4eb9837      1       1       1    0  \n",
       "8  f19421c1d4aa40978ebb69ca19b0e20d      1       1       1    1  \n",
       "9  2906b810c7d4411798c6938adc9daaa5      1       1       0    1  "
      ],
      "text/html": "<div>\n<style scoped>\n    .dataframe tbody tr th:only-of-type {\n        vertical-align: middle;\n    }\n\n    .dataframe tbody tr th {\n        vertical-align: top;\n    }\n\n    .dataframe thead th {\n        text-align: right;\n    }\n</style>\n<table border=\"1\" class=\"dataframe\">\n  <thead>\n    <tr style=\"text-align: right;\">\n      <th></th>\n      <th>reward</th>\n      <th>channels</th>\n      <th>difficulty</th>\n      <th>duration</th>\n      <th>offer_type</th>\n      <th>offer</th>\n      <th>email</th>\n      <th>mobile</th>\n      <th>social</th>\n      <th>web</th>\n    </tr>\n  </thead>\n  <tbody>\n    <tr>\n      <th>0</th>\n      <td>10</td>\n      <td>[email, mobile, social]</td>\n      <td>10</td>\n      <td>7</td>\n      <td>bogo</td>\n      <td>ae264e3637204a6fb9bb56bc8210ddfd</td>\n      <td>1</td>\n      <td>1</td>\n      <td>1</td>\n      <td>0</td>\n    </tr>\n    <tr>\n      <th>1</th>\n      <td>10</td>\n      <td>[web, email, mobile, social]</td>\n      <td>10</td>\n      <td>5</td>\n      <td>bogo</td>\n      <td>4d5c57ea9a6940dd891ad53e9dbe8da0</td>\n      <td>1</td>\n      <td>1</td>\n      <td>1</td>\n      <td>1</td>\n    </tr>\n    <tr>\n      <th>2</th>\n      <td>0</td>\n      <td>[web, email, mobile]</td>\n      <td>0</td>\n      <td>4</td>\n      <td>informational</td>\n      <td>3f207df678b143eea3cee63160fa8bed</td>\n      <td>1</td>\n      <td>1</td>\n      <td>0</td>\n      <td>1</td>\n    </tr>\n    <tr>\n      <th>3</th>\n      <td>5</td>\n      <td>[web, email, mobile]</td>\n      <td>5</td>\n      <td>7</td>\n      <td>bogo</td>\n      <td>9b98b8c7a33c4b65b9aebfe6a799e6d9</td>\n      <td>1</td>\n      <td>1</td>\n      <td>0</td>\n      <td>1</td>\n    </tr>\n    <tr>\n      <th>4</th>\n      <td>5</td>\n      <td>[web, email]</td>\n      <td>20</td>\n      <td>10</td>\n      <td>discount</td>\n      <td>0b1e1539f2cc45b7b9fa7c272da2e1d7</td>\n      <td>1</td>\n      <td>0</td>\n      <td>0</td>\n      <td>1</td>\n    </tr>\n    <tr>\n      <th>5</th>\n      <td>3</td>\n      <td>[web, email, mobile, social]</td>\n      <td>7</td>\n      <td>7</td>\n      <td>discount</td>\n      <td>2298d6c36e964ae4a3e7e9706d1fb8c2</td>\n      <td>1</td>\n      <td>1</td>\n      <td>1</td>\n      <td>1</td>\n    </tr>\n    <tr>\n      <th>6</th>\n      <td>2</td>\n      <td>[web, email, mobile, social]</td>\n      <td>10</td>\n      <td>10</td>\n      <td>discount</td>\n      <td>fafdcd668e3743c1bb461111dcafc2a4</td>\n      <td>1</td>\n      <td>1</td>\n      <td>1</td>\n      <td>1</td>\n    </tr>\n    <tr>\n      <th>7</th>\n      <td>0</td>\n      <td>[email, mobile, social]</td>\n      <td>0</td>\n      <td>3</td>\n      <td>informational</td>\n      <td>5a8bc65990b245e5a138643cd4eb9837</td>\n      <td>1</td>\n      <td>1</td>\n      <td>1</td>\n      <td>0</td>\n    </tr>\n    <tr>\n      <th>8</th>\n      <td>5</td>\n      <td>[web, email, mobile, social]</td>\n      <td>5</td>\n      <td>5</td>\n      <td>bogo</td>\n      <td>f19421c1d4aa40978ebb69ca19b0e20d</td>\n      <td>1</td>\n      <td>1</td>\n      <td>1</td>\n      <td>1</td>\n    </tr>\n    <tr>\n      <th>9</th>\n      <td>2</td>\n      <td>[web, email, mobile]</td>\n      <td>10</td>\n      <td>7</td>\n      <td>discount</td>\n      <td>2906b810c7d4411798c6938adc9daaa5</td>\n      <td>1</td>\n      <td>1</td>\n      <td>0</td>\n      <td>1</td>\n    </tr>\n  </tbody>\n</table>\n</div>"
     },
     "metadata": {},
     "execution_count": 107
    }
   ],
   "source": [
    "portfolio"
   ]
  },
  {
   "cell_type": "code",
   "execution_count": 64,
   "metadata": {},
   "outputs": [
    {
     "output_type": "execute_result",
     "data": {
      "text/plain": [
       "      gender  age                                id  became_member_on  \\\n",
       "1          F   55  0610b486422d4921ae7d2bf64640c50b          20170715   \n",
       "3          F   75  78afa995795e4d85b5d9ceeca43f5fef          20170509   \n",
       "5          M   68  e2127556f4f64592b11af22de27a7932          20180426   \n",
       "8          M   65  389bc3fa690240e798340f5a15918d5c          20180209   \n",
       "12         M   58  2eeac8d8feae4a8cad5a6af0499a211d          20171111   \n",
       "...      ...  ...                               ...               ...   \n",
       "16995      F   45  6d5f3a774f3d4714ab0c092238f3a1d7          20180604   \n",
       "16996      M   61  2cb4f97358b841b9a9773a7aa05a9d77          20180713   \n",
       "16997      M   49  01d26f638c274aa0b965d24cefe3183f          20170126   \n",
       "16998      F   83  9dc1421481194dcd9400aec7c9ae6366          20160307   \n",
       "16999      F   62  e4052622e5ba45a8b96b59aba68cf068          20170722   \n",
       "\n",
       "         income  \n",
       "1      112000.0  \n",
       "3      100000.0  \n",
       "5       70000.0  \n",
       "8       53000.0  \n",
       "12      51000.0  \n",
       "...         ...  \n",
       "16995   54000.0  \n",
       "16996   72000.0  \n",
       "16997   73000.0  \n",
       "16998   50000.0  \n",
       "16999   82000.0  \n",
       "\n",
       "[14825 rows x 5 columns]"
      ],
      "text/html": "<div>\n<style scoped>\n    .dataframe tbody tr th:only-of-type {\n        vertical-align: middle;\n    }\n\n    .dataframe tbody tr th {\n        vertical-align: top;\n    }\n\n    .dataframe thead th {\n        text-align: right;\n    }\n</style>\n<table border=\"1\" class=\"dataframe\">\n  <thead>\n    <tr style=\"text-align: right;\">\n      <th></th>\n      <th>gender</th>\n      <th>age</th>\n      <th>id</th>\n      <th>became_member_on</th>\n      <th>income</th>\n    </tr>\n  </thead>\n  <tbody>\n    <tr>\n      <th>1</th>\n      <td>F</td>\n      <td>55</td>\n      <td>0610b486422d4921ae7d2bf64640c50b</td>\n      <td>20170715</td>\n      <td>112000.0</td>\n    </tr>\n    <tr>\n      <th>3</th>\n      <td>F</td>\n      <td>75</td>\n      <td>78afa995795e4d85b5d9ceeca43f5fef</td>\n      <td>20170509</td>\n      <td>100000.0</td>\n    </tr>\n    <tr>\n      <th>5</th>\n      <td>M</td>\n      <td>68</td>\n      <td>e2127556f4f64592b11af22de27a7932</td>\n      <td>20180426</td>\n      <td>70000.0</td>\n    </tr>\n    <tr>\n      <th>8</th>\n      <td>M</td>\n      <td>65</td>\n      <td>389bc3fa690240e798340f5a15918d5c</td>\n      <td>20180209</td>\n      <td>53000.0</td>\n    </tr>\n    <tr>\n      <th>12</th>\n      <td>M</td>\n      <td>58</td>\n      <td>2eeac8d8feae4a8cad5a6af0499a211d</td>\n      <td>20171111</td>\n      <td>51000.0</td>\n    </tr>\n    <tr>\n      <th>...</th>\n      <td>...</td>\n      <td>...</td>\n      <td>...</td>\n      <td>...</td>\n      <td>...</td>\n    </tr>\n    <tr>\n      <th>16995</th>\n      <td>F</td>\n      <td>45</td>\n      <td>6d5f3a774f3d4714ab0c092238f3a1d7</td>\n      <td>20180604</td>\n      <td>54000.0</td>\n    </tr>\n    <tr>\n      <th>16996</th>\n      <td>M</td>\n      <td>61</td>\n      <td>2cb4f97358b841b9a9773a7aa05a9d77</td>\n      <td>20180713</td>\n      <td>72000.0</td>\n    </tr>\n    <tr>\n      <th>16997</th>\n      <td>M</td>\n      <td>49</td>\n      <td>01d26f638c274aa0b965d24cefe3183f</td>\n      <td>20170126</td>\n      <td>73000.0</td>\n    </tr>\n    <tr>\n      <th>16998</th>\n      <td>F</td>\n      <td>83</td>\n      <td>9dc1421481194dcd9400aec7c9ae6366</td>\n      <td>20160307</td>\n      <td>50000.0</td>\n    </tr>\n    <tr>\n      <th>16999</th>\n      <td>F</td>\n      <td>62</td>\n      <td>e4052622e5ba45a8b96b59aba68cf068</td>\n      <td>20170722</td>\n      <td>82000.0</td>\n    </tr>\n  </tbody>\n</table>\n<p>14825 rows × 5 columns</p>\n</div>"
     },
     "metadata": {},
     "execution_count": 64
    }
   ],
   "source": [
    "profile"
   ]
  },
  {
   "cell_type": "code",
   "execution_count": null,
   "metadata": {},
   "outputs": [],
   "source": [
    "profile = profile[profile['income'].notnull()]\n",
    "real_persons = profile.id.unique()"
   ]
  },
  {
   "cell_type": "code",
   "execution_count": 80,
   "metadata": {},
   "outputs": [
    {
     "output_type": "execute_result",
     "data": {
      "text/plain": [
       "      gender  age                            person  became_member_on  \\\n",
       "1          F   55  0610b486422d4921ae7d2bf64640c50b          20170715   \n",
       "3          F   75  78afa995795e4d85b5d9ceeca43f5fef          20170509   \n",
       "5          M   68  e2127556f4f64592b11af22de27a7932          20180426   \n",
       "8          M   65  389bc3fa690240e798340f5a15918d5c          20180209   \n",
       "12         M   58  2eeac8d8feae4a8cad5a6af0499a211d          20171111   \n",
       "...      ...  ...                               ...               ...   \n",
       "16995      F   45  6d5f3a774f3d4714ab0c092238f3a1d7          20180604   \n",
       "16996      M   61  2cb4f97358b841b9a9773a7aa05a9d77          20180713   \n",
       "16997      M   49  01d26f638c274aa0b965d24cefe3183f          20170126   \n",
       "16998      F   83  9dc1421481194dcd9400aec7c9ae6366          20160307   \n",
       "16999      F   62  e4052622e5ba45a8b96b59aba68cf068          20170722   \n",
       "\n",
       "         income  \n",
       "1      112000.0  \n",
       "3      100000.0  \n",
       "5       70000.0  \n",
       "8       53000.0  \n",
       "12      51000.0  \n",
       "...         ...  \n",
       "16995   54000.0  \n",
       "16996   72000.0  \n",
       "16997   73000.0  \n",
       "16998   50000.0  \n",
       "16999   82000.0  \n",
       "\n",
       "[14825 rows x 5 columns]"
      ],
      "text/html": "<div>\n<style scoped>\n    .dataframe tbody tr th:only-of-type {\n        vertical-align: middle;\n    }\n\n    .dataframe tbody tr th {\n        vertical-align: top;\n    }\n\n    .dataframe thead th {\n        text-align: right;\n    }\n</style>\n<table border=\"1\" class=\"dataframe\">\n  <thead>\n    <tr style=\"text-align: right;\">\n      <th></th>\n      <th>gender</th>\n      <th>age</th>\n      <th>person</th>\n      <th>became_member_on</th>\n      <th>income</th>\n    </tr>\n  </thead>\n  <tbody>\n    <tr>\n      <th>1</th>\n      <td>F</td>\n      <td>55</td>\n      <td>0610b486422d4921ae7d2bf64640c50b</td>\n      <td>20170715</td>\n      <td>112000.0</td>\n    </tr>\n    <tr>\n      <th>3</th>\n      <td>F</td>\n      <td>75</td>\n      <td>78afa995795e4d85b5d9ceeca43f5fef</td>\n      <td>20170509</td>\n      <td>100000.0</td>\n    </tr>\n    <tr>\n      <th>5</th>\n      <td>M</td>\n      <td>68</td>\n      <td>e2127556f4f64592b11af22de27a7932</td>\n      <td>20180426</td>\n      <td>70000.0</td>\n    </tr>\n    <tr>\n      <th>8</th>\n      <td>M</td>\n      <td>65</td>\n      <td>389bc3fa690240e798340f5a15918d5c</td>\n      <td>20180209</td>\n      <td>53000.0</td>\n    </tr>\n    <tr>\n      <th>12</th>\n      <td>M</td>\n      <td>58</td>\n      <td>2eeac8d8feae4a8cad5a6af0499a211d</td>\n      <td>20171111</td>\n      <td>51000.0</td>\n    </tr>\n    <tr>\n      <th>...</th>\n      <td>...</td>\n      <td>...</td>\n      <td>...</td>\n      <td>...</td>\n      <td>...</td>\n    </tr>\n    <tr>\n      <th>16995</th>\n      <td>F</td>\n      <td>45</td>\n      <td>6d5f3a774f3d4714ab0c092238f3a1d7</td>\n      <td>20180604</td>\n      <td>54000.0</td>\n    </tr>\n    <tr>\n      <th>16996</th>\n      <td>M</td>\n      <td>61</td>\n      <td>2cb4f97358b841b9a9773a7aa05a9d77</td>\n      <td>20180713</td>\n      <td>72000.0</td>\n    </tr>\n    <tr>\n      <th>16997</th>\n      <td>M</td>\n      <td>49</td>\n      <td>01d26f638c274aa0b965d24cefe3183f</td>\n      <td>20170126</td>\n      <td>73000.0</td>\n    </tr>\n    <tr>\n      <th>16998</th>\n      <td>F</td>\n      <td>83</td>\n      <td>9dc1421481194dcd9400aec7c9ae6366</td>\n      <td>20160307</td>\n      <td>50000.0</td>\n    </tr>\n    <tr>\n      <th>16999</th>\n      <td>F</td>\n      <td>62</td>\n      <td>e4052622e5ba45a8b96b59aba68cf068</td>\n      <td>20170722</td>\n      <td>82000.0</td>\n    </tr>\n  </tbody>\n</table>\n<p>14825 rows × 5 columns</p>\n</div>"
     },
     "metadata": {},
     "execution_count": 80
    }
   ],
   "source": [
    "profile.rename(columns={'id': 'person'}, inplace=True)\n",
    "profile"
   ]
  },
  {
   "cell_type": "code",
   "execution_count": null,
   "metadata": {},
   "outputs": [],
   "source": [
    "profile.hist()"
   ]
  },
  {
   "cell_type": "code",
   "execution_count": null,
   "metadata": {},
   "outputs": [],
   "source": [
    "transcript"
   ]
  },
  {
   "cell_type": "code",
   "execution_count": null,
   "metadata": {},
   "outputs": [],
   "source": [
    "transcript['event'].value_counts()"
   ]
  },
  {
   "cell_type": "code",
   "execution_count": null,
   "metadata": {},
   "outputs": [],
   "source": [
    "persons_completed = transcript[transcript['event'] == 'offer completed']['person'].unique()\n",
    "persons_viewed = transcript[transcript['event'] == 'offer viewed']['person'].unique()\n",
    "persons_received = transcript[transcript['event'] == 'offer received']['person'].unique()"
   ]
  },
  {
   "cell_type": "code",
   "execution_count": null,
   "metadata": {},
   "outputs": [],
   "source": [
    "transcript['person'].value_counts()"
   ]
  },
  {
   "cell_type": "code",
   "execution_count": null,
   "metadata": {},
   "outputs": [],
   "source": [
    "transcript_train = transcript[transcript['person'].isin(persons_received) & transcript['person'].isin(persons_viewed)]\n",
    "transcript_train = transcript_train[transcript_train['person'].isin(real_persons)]"
   ]
  },
  {
   "cell_type": "code",
   "execution_count": null,
   "metadata": {},
   "outputs": [],
   "source": [
    "transcript_train['person'].value_counts()"
   ]
  },
  {
   "cell_type": "code",
   "execution_count": null,
   "metadata": {},
   "outputs": [],
   "source": [
    "transcript_train"
   ]
  },
  {
   "cell_type": "code",
   "execution_count": null,
   "metadata": {},
   "outputs": [],
   "source": [
    "transcript_offers = transcript_train.copy()\n",
    "transcript_offers = transcript_offers[(transcript_offers['event'] == 'offer received') | (transcript_offers['event'] == 'offer viewed') | (transcript_offers['event'] == 'offer completed')]"
   ]
  },
  {
   "cell_type": "code",
   "execution_count": null,
   "metadata": {},
   "outputs": [],
   "source": [
    "transcript_offers"
   ]
  },
  {
   "cell_type": "code",
   "execution_count": null,
   "metadata": {},
   "outputs": [],
   "source": [
    "df_offers = pd.DataFrame(columns=['person', 'offer_received', 'offer_viewed', 'offer_completed', 'offer_id'])"
   ]
  },
  {
   "cell_type": "code",
   "execution_count": 71,
   "metadata": {},
   "outputs": [
    {
     "output_type": "stream",
     "name": "stderr",
     "text": [
      "100%|██████████| 14825/14825 [12:35<00:00, 19.63it/s]\n"
     ]
    }
   ],
   "source": [
    "offers_df = pd.DataFrame()\n",
    "for person in tqdm(real_persons):\n",
    "    df_aux = transcript_offers[transcript_offers['person'] == person]\n",
    "\n",
    "    offers = dict()\n",
    "    for line in range(len(df_aux)):\n",
    "        if df_aux.iloc[line, df_aux.columns.get_loc('event')] == 'offer received':\n",
    "            offers[df_aux.iloc[line, df_aux.columns.get_loc('value')].get('offer id')] = dict()\n",
    "            offers[df_aux.iloc[line, df_aux.columns.get_loc('value')].get('offer id')]['person'] = person\n",
    "\n",
    "            offers[df_aux.iloc[line, df_aux.columns.get_loc('value')].get('offer id')]['offer received'] = df_aux.iloc[line, df_aux.columns.get_loc('time')]\n",
    "        elif df_aux.iloc[line, df_aux.columns.get_loc('event')] == 'offer viewed':\n",
    "            offers[df_aux.iloc[line, df_aux.columns.get_loc('value')].get('offer id')]['offer viewed'] = df_aux.iloc[line, df_aux.columns.get_loc('time')]\n",
    "        else:\n",
    "            offers[df_aux.iloc[line, df_aux.columns.get_loc('value')]['offer_id']]['offer completed'] = df_aux.iloc[line, df_aux.columns.get_loc('time')]\n",
    "            offers[df_aux.iloc[line, df_aux.columns.get_loc('value')]['offer_id']]['reward'] = df_aux.iloc[line, df_aux.columns.get_loc('value')]['reward']\n",
    "\n",
    "    offers_df = offers_df.append(pd.DataFrame(offers).transpose())"
   ]
  },
  {
   "cell_type": "code",
   "execution_count": 73,
   "metadata": {},
   "outputs": [
    {
     "output_type": "execute_result",
     "data": {
      "text/plain": [
       "                                                            person  \\\n",
       "9b98b8c7a33c4b65b9aebfe6a799e6d9  78afa995795e4d85b5d9ceeca43f5fef   \n",
       "5a8bc65990b245e5a138643cd4eb9837  78afa995795e4d85b5d9ceeca43f5fef   \n",
       "ae264e3637204a6fb9bb56bc8210ddfd  78afa995795e4d85b5d9ceeca43f5fef   \n",
       "f19421c1d4aa40978ebb69ca19b0e20d  78afa995795e4d85b5d9ceeca43f5fef   \n",
       "2906b810c7d4411798c6938adc9daaa5  e2127556f4f64592b11af22de27a7932   \n",
       "...                                                            ...   \n",
       "9b98b8c7a33c4b65b9aebfe6a799e6d9  9dc1421481194dcd9400aec7c9ae6366   \n",
       "ae264e3637204a6fb9bb56bc8210ddfd  9dc1421481194dcd9400aec7c9ae6366   \n",
       "2298d6c36e964ae4a3e7e9706d1fb8c2  e4052622e5ba45a8b96b59aba68cf068   \n",
       "3f207df678b143eea3cee63160fa8bed  e4052622e5ba45a8b96b59aba68cf068   \n",
       "f19421c1d4aa40978ebb69ca19b0e20d  e4052622e5ba45a8b96b59aba68cf068   \n",
       "\n",
       "                                 offer received offer viewed offer completed  \\\n",
       "9b98b8c7a33c4b65b9aebfe6a799e6d9              0            6             132   \n",
       "5a8bc65990b245e5a138643cd4eb9837            168          216             NaN   \n",
       "ae264e3637204a6fb9bb56bc8210ddfd            408          408             510   \n",
       "f19421c1d4aa40978ebb69ca19b0e20d            504          582             510   \n",
       "2906b810c7d4411798c6938adc9daaa5              0           18             NaN   \n",
       "...                                         ...          ...             ...   \n",
       "9b98b8c7a33c4b65b9aebfe6a799e6d9            408          516             414   \n",
       "ae264e3637204a6fb9bb56bc8210ddfd            576          624             594   \n",
       "2298d6c36e964ae4a3e7e9706d1fb8c2              0            6              54   \n",
       "3f207df678b143eea3cee63160fa8bed            576          NaN             NaN   \n",
       "f19421c1d4aa40978ebb69ca19b0e20d            408          546             480   \n",
       "\n",
       "                                 reward                             offer  \n",
       "9b98b8c7a33c4b65b9aebfe6a799e6d9      5  9b98b8c7a33c4b65b9aebfe6a799e6d9  \n",
       "5a8bc65990b245e5a138643cd4eb9837    NaN  5a8bc65990b245e5a138643cd4eb9837  \n",
       "ae264e3637204a6fb9bb56bc8210ddfd     10  ae264e3637204a6fb9bb56bc8210ddfd  \n",
       "f19421c1d4aa40978ebb69ca19b0e20d      5  f19421c1d4aa40978ebb69ca19b0e20d  \n",
       "2906b810c7d4411798c6938adc9daaa5    NaN  2906b810c7d4411798c6938adc9daaa5  \n",
       "...                                 ...                               ...  \n",
       "9b98b8c7a33c4b65b9aebfe6a799e6d9      5  9b98b8c7a33c4b65b9aebfe6a799e6d9  \n",
       "ae264e3637204a6fb9bb56bc8210ddfd     10  ae264e3637204a6fb9bb56bc8210ddfd  \n",
       "2298d6c36e964ae4a3e7e9706d1fb8c2      3  2298d6c36e964ae4a3e7e9706d1fb8c2  \n",
       "3f207df678b143eea3cee63160fa8bed    NaN  3f207df678b143eea3cee63160fa8bed  \n",
       "f19421c1d4aa40978ebb69ca19b0e20d      5  f19421c1d4aa40978ebb69ca19b0e20d  \n",
       "\n",
       "[54867 rows x 6 columns]"
      ],
      "text/html": "<div>\n<style scoped>\n    .dataframe tbody tr th:only-of-type {\n        vertical-align: middle;\n    }\n\n    .dataframe tbody tr th {\n        vertical-align: top;\n    }\n\n    .dataframe thead th {\n        text-align: right;\n    }\n</style>\n<table border=\"1\" class=\"dataframe\">\n  <thead>\n    <tr style=\"text-align: right;\">\n      <th></th>\n      <th>person</th>\n      <th>offer received</th>\n      <th>offer viewed</th>\n      <th>offer completed</th>\n      <th>reward</th>\n      <th>offer</th>\n    </tr>\n  </thead>\n  <tbody>\n    <tr>\n      <th>9b98b8c7a33c4b65b9aebfe6a799e6d9</th>\n      <td>78afa995795e4d85b5d9ceeca43f5fef</td>\n      <td>0</td>\n      <td>6</td>\n      <td>132</td>\n      <td>5</td>\n      <td>9b98b8c7a33c4b65b9aebfe6a799e6d9</td>\n    </tr>\n    <tr>\n      <th>5a8bc65990b245e5a138643cd4eb9837</th>\n      <td>78afa995795e4d85b5d9ceeca43f5fef</td>\n      <td>168</td>\n      <td>216</td>\n      <td>NaN</td>\n      <td>NaN</td>\n      <td>5a8bc65990b245e5a138643cd4eb9837</td>\n    </tr>\n    <tr>\n      <th>ae264e3637204a6fb9bb56bc8210ddfd</th>\n      <td>78afa995795e4d85b5d9ceeca43f5fef</td>\n      <td>408</td>\n      <td>408</td>\n      <td>510</td>\n      <td>10</td>\n      <td>ae264e3637204a6fb9bb56bc8210ddfd</td>\n    </tr>\n    <tr>\n      <th>f19421c1d4aa40978ebb69ca19b0e20d</th>\n      <td>78afa995795e4d85b5d9ceeca43f5fef</td>\n      <td>504</td>\n      <td>582</td>\n      <td>510</td>\n      <td>5</td>\n      <td>f19421c1d4aa40978ebb69ca19b0e20d</td>\n    </tr>\n    <tr>\n      <th>2906b810c7d4411798c6938adc9daaa5</th>\n      <td>e2127556f4f64592b11af22de27a7932</td>\n      <td>0</td>\n      <td>18</td>\n      <td>NaN</td>\n      <td>NaN</td>\n      <td>2906b810c7d4411798c6938adc9daaa5</td>\n    </tr>\n    <tr>\n      <th>...</th>\n      <td>...</td>\n      <td>...</td>\n      <td>...</td>\n      <td>...</td>\n      <td>...</td>\n      <td>...</td>\n    </tr>\n    <tr>\n      <th>9b98b8c7a33c4b65b9aebfe6a799e6d9</th>\n      <td>9dc1421481194dcd9400aec7c9ae6366</td>\n      <td>408</td>\n      <td>516</td>\n      <td>414</td>\n      <td>5</td>\n      <td>9b98b8c7a33c4b65b9aebfe6a799e6d9</td>\n    </tr>\n    <tr>\n      <th>ae264e3637204a6fb9bb56bc8210ddfd</th>\n      <td>9dc1421481194dcd9400aec7c9ae6366</td>\n      <td>576</td>\n      <td>624</td>\n      <td>594</td>\n      <td>10</td>\n      <td>ae264e3637204a6fb9bb56bc8210ddfd</td>\n    </tr>\n    <tr>\n      <th>2298d6c36e964ae4a3e7e9706d1fb8c2</th>\n      <td>e4052622e5ba45a8b96b59aba68cf068</td>\n      <td>0</td>\n      <td>6</td>\n      <td>54</td>\n      <td>3</td>\n      <td>2298d6c36e964ae4a3e7e9706d1fb8c2</td>\n    </tr>\n    <tr>\n      <th>3f207df678b143eea3cee63160fa8bed</th>\n      <td>e4052622e5ba45a8b96b59aba68cf068</td>\n      <td>576</td>\n      <td>NaN</td>\n      <td>NaN</td>\n      <td>NaN</td>\n      <td>3f207df678b143eea3cee63160fa8bed</td>\n    </tr>\n    <tr>\n      <th>f19421c1d4aa40978ebb69ca19b0e20d</th>\n      <td>e4052622e5ba45a8b96b59aba68cf068</td>\n      <td>408</td>\n      <td>546</td>\n      <td>480</td>\n      <td>5</td>\n      <td>f19421c1d4aa40978ebb69ca19b0e20d</td>\n    </tr>\n  </tbody>\n</table>\n<p>54867 rows × 6 columns</p>\n</div>"
     },
     "metadata": {},
     "execution_count": 73
    }
   ],
   "source": [
    "offers_df['offer'] = offers_df.index\n",
    "offers_df"
   ]
  },
  {
   "cell_type": "code",
   "execution_count": 76,
   "metadata": {},
   "outputs": [],
   "source": [
    "offers_df.to_csv(\"processed_data/offers_processed.csv\")"
   ]
  },
  {
   "cell_type": "code",
   "execution_count": 108,
   "metadata": {},
   "outputs": [],
   "source": [
    "offers_profile = pd.merge(offers_df, profile, on=['person'], how='left')"
   ]
  },
  {
   "cell_type": "code",
   "execution_count": 111,
   "metadata": {},
   "outputs": [
    {
     "output_type": "execute_result",
     "data": {
      "text/plain": [
       "                                 person offer received offer viewed  \\\n",
       "0      78afa995795e4d85b5d9ceeca43f5fef              0            6   \n",
       "1      78afa995795e4d85b5d9ceeca43f5fef            168          216   \n",
       "2      78afa995795e4d85b5d9ceeca43f5fef            408          408   \n",
       "3      78afa995795e4d85b5d9ceeca43f5fef            504          582   \n",
       "4      e2127556f4f64592b11af22de27a7932              0           18   \n",
       "...                                 ...            ...          ...   \n",
       "54862  9dc1421481194dcd9400aec7c9ae6366            408          516   \n",
       "54863  9dc1421481194dcd9400aec7c9ae6366            576          624   \n",
       "54864  e4052622e5ba45a8b96b59aba68cf068              0            6   \n",
       "54865  e4052622e5ba45a8b96b59aba68cf068            576          NaN   \n",
       "54866  e4052622e5ba45a8b96b59aba68cf068            408          546   \n",
       "\n",
       "      offer completed reward_x                             offer gender  age  \\\n",
       "0                 132        5  9b98b8c7a33c4b65b9aebfe6a799e6d9      F   75   \n",
       "1                 NaN      NaN  5a8bc65990b245e5a138643cd4eb9837      F   75   \n",
       "2                 510       10  ae264e3637204a6fb9bb56bc8210ddfd      F   75   \n",
       "3                 510        5  f19421c1d4aa40978ebb69ca19b0e20d      F   75   \n",
       "4                 NaN      NaN  2906b810c7d4411798c6938adc9daaa5      M   68   \n",
       "...               ...      ...                               ...    ...  ...   \n",
       "54862             414        5  9b98b8c7a33c4b65b9aebfe6a799e6d9      F   83   \n",
       "54863             594       10  ae264e3637204a6fb9bb56bc8210ddfd      F   83   \n",
       "54864              54        3  2298d6c36e964ae4a3e7e9706d1fb8c2      F   62   \n",
       "54865             NaN      NaN  3f207df678b143eea3cee63160fa8bed      F   62   \n",
       "54866             480        5  f19421c1d4aa40978ebb69ca19b0e20d      F   62   \n",
       "\n",
       "       became_member_on    income  reward_y  difficulty  duration  \\\n",
       "0              20170509  100000.0         5           5         7   \n",
       "1              20170509  100000.0         0           0         3   \n",
       "2              20170509  100000.0        10          10         7   \n",
       "3              20170509  100000.0         5           5         5   \n",
       "4              20180426   70000.0         2          10         7   \n",
       "...                 ...       ...       ...         ...       ...   \n",
       "54862          20160307   50000.0         5           5         7   \n",
       "54863          20160307   50000.0        10          10         7   \n",
       "54864          20170722   82000.0         3           7         7   \n",
       "54865          20170722   82000.0         0           0         4   \n",
       "54866          20170722   82000.0         5           5         5   \n",
       "\n",
       "          offer_type  email  mobile  social  web  \n",
       "0               bogo      1       1       0    1  \n",
       "1      informational      1       1       1    0  \n",
       "2               bogo      1       1       1    0  \n",
       "3               bogo      1       1       1    1  \n",
       "4           discount      1       1       0    1  \n",
       "...              ...    ...     ...     ...  ...  \n",
       "54862           bogo      1       1       0    1  \n",
       "54863           bogo      1       1       1    0  \n",
       "54864       discount      1       1       1    1  \n",
       "54865  informational      1       1       0    1  \n",
       "54866           bogo      1       1       1    1  \n",
       "\n",
       "[54867 rows x 18 columns]"
      ],
      "text/html": "<div>\n<style scoped>\n    .dataframe tbody tr th:only-of-type {\n        vertical-align: middle;\n    }\n\n    .dataframe tbody tr th {\n        vertical-align: top;\n    }\n\n    .dataframe thead th {\n        text-align: right;\n    }\n</style>\n<table border=\"1\" class=\"dataframe\">\n  <thead>\n    <tr style=\"text-align: right;\">\n      <th></th>\n      <th>person</th>\n      <th>offer received</th>\n      <th>offer viewed</th>\n      <th>offer completed</th>\n      <th>reward_x</th>\n      <th>offer</th>\n      <th>gender</th>\n      <th>age</th>\n      <th>became_member_on</th>\n      <th>income</th>\n      <th>reward_y</th>\n      <th>difficulty</th>\n      <th>duration</th>\n      <th>offer_type</th>\n      <th>email</th>\n      <th>mobile</th>\n      <th>social</th>\n      <th>web</th>\n    </tr>\n  </thead>\n  <tbody>\n    <tr>\n      <th>0</th>\n      <td>78afa995795e4d85b5d9ceeca43f5fef</td>\n      <td>0</td>\n      <td>6</td>\n      <td>132</td>\n      <td>5</td>\n      <td>9b98b8c7a33c4b65b9aebfe6a799e6d9</td>\n      <td>F</td>\n      <td>75</td>\n      <td>20170509</td>\n      <td>100000.0</td>\n      <td>5</td>\n      <td>5</td>\n      <td>7</td>\n      <td>bogo</td>\n      <td>1</td>\n      <td>1</td>\n      <td>0</td>\n      <td>1</td>\n    </tr>\n    <tr>\n      <th>1</th>\n      <td>78afa995795e4d85b5d9ceeca43f5fef</td>\n      <td>168</td>\n      <td>216</td>\n      <td>NaN</td>\n      <td>NaN</td>\n      <td>5a8bc65990b245e5a138643cd4eb9837</td>\n      <td>F</td>\n      <td>75</td>\n      <td>20170509</td>\n      <td>100000.0</td>\n      <td>0</td>\n      <td>0</td>\n      <td>3</td>\n      <td>informational</td>\n      <td>1</td>\n      <td>1</td>\n      <td>1</td>\n      <td>0</td>\n    </tr>\n    <tr>\n      <th>2</th>\n      <td>78afa995795e4d85b5d9ceeca43f5fef</td>\n      <td>408</td>\n      <td>408</td>\n      <td>510</td>\n      <td>10</td>\n      <td>ae264e3637204a6fb9bb56bc8210ddfd</td>\n      <td>F</td>\n      <td>75</td>\n      <td>20170509</td>\n      <td>100000.0</td>\n      <td>10</td>\n      <td>10</td>\n      <td>7</td>\n      <td>bogo</td>\n      <td>1</td>\n      <td>1</td>\n      <td>1</td>\n      <td>0</td>\n    </tr>\n    <tr>\n      <th>3</th>\n      <td>78afa995795e4d85b5d9ceeca43f5fef</td>\n      <td>504</td>\n      <td>582</td>\n      <td>510</td>\n      <td>5</td>\n      <td>f19421c1d4aa40978ebb69ca19b0e20d</td>\n      <td>F</td>\n      <td>75</td>\n      <td>20170509</td>\n      <td>100000.0</td>\n      <td>5</td>\n      <td>5</td>\n      <td>5</td>\n      <td>bogo</td>\n      <td>1</td>\n      <td>1</td>\n      <td>1</td>\n      <td>1</td>\n    </tr>\n    <tr>\n      <th>4</th>\n      <td>e2127556f4f64592b11af22de27a7932</td>\n      <td>0</td>\n      <td>18</td>\n      <td>NaN</td>\n      <td>NaN</td>\n      <td>2906b810c7d4411798c6938adc9daaa5</td>\n      <td>M</td>\n      <td>68</td>\n      <td>20180426</td>\n      <td>70000.0</td>\n      <td>2</td>\n      <td>10</td>\n      <td>7</td>\n      <td>discount</td>\n      <td>1</td>\n      <td>1</td>\n      <td>0</td>\n      <td>1</td>\n    </tr>\n    <tr>\n      <th>...</th>\n      <td>...</td>\n      <td>...</td>\n      <td>...</td>\n      <td>...</td>\n      <td>...</td>\n      <td>...</td>\n      <td>...</td>\n      <td>...</td>\n      <td>...</td>\n      <td>...</td>\n      <td>...</td>\n      <td>...</td>\n      <td>...</td>\n      <td>...</td>\n      <td>...</td>\n      <td>...</td>\n      <td>...</td>\n      <td>...</td>\n    </tr>\n    <tr>\n      <th>54862</th>\n      <td>9dc1421481194dcd9400aec7c9ae6366</td>\n      <td>408</td>\n      <td>516</td>\n      <td>414</td>\n      <td>5</td>\n      <td>9b98b8c7a33c4b65b9aebfe6a799e6d9</td>\n      <td>F</td>\n      <td>83</td>\n      <td>20160307</td>\n      <td>50000.0</td>\n      <td>5</td>\n      <td>5</td>\n      <td>7</td>\n      <td>bogo</td>\n      <td>1</td>\n      <td>1</td>\n      <td>0</td>\n      <td>1</td>\n    </tr>\n    <tr>\n      <th>54863</th>\n      <td>9dc1421481194dcd9400aec7c9ae6366</td>\n      <td>576</td>\n      <td>624</td>\n      <td>594</td>\n      <td>10</td>\n      <td>ae264e3637204a6fb9bb56bc8210ddfd</td>\n      <td>F</td>\n      <td>83</td>\n      <td>20160307</td>\n      <td>50000.0</td>\n      <td>10</td>\n      <td>10</td>\n      <td>7</td>\n      <td>bogo</td>\n      <td>1</td>\n      <td>1</td>\n      <td>1</td>\n      <td>0</td>\n    </tr>\n    <tr>\n      <th>54864</th>\n      <td>e4052622e5ba45a8b96b59aba68cf068</td>\n      <td>0</td>\n      <td>6</td>\n      <td>54</td>\n      <td>3</td>\n      <td>2298d6c36e964ae4a3e7e9706d1fb8c2</td>\n      <td>F</td>\n      <td>62</td>\n      <td>20170722</td>\n      <td>82000.0</td>\n      <td>3</td>\n      <td>7</td>\n      <td>7</td>\n      <td>discount</td>\n      <td>1</td>\n      <td>1</td>\n      <td>1</td>\n      <td>1</td>\n    </tr>\n    <tr>\n      <th>54865</th>\n      <td>e4052622e5ba45a8b96b59aba68cf068</td>\n      <td>576</td>\n      <td>NaN</td>\n      <td>NaN</td>\n      <td>NaN</td>\n      <td>3f207df678b143eea3cee63160fa8bed</td>\n      <td>F</td>\n      <td>62</td>\n      <td>20170722</td>\n      <td>82000.0</td>\n      <td>0</td>\n      <td>0</td>\n      <td>4</td>\n      <td>informational</td>\n      <td>1</td>\n      <td>1</td>\n      <td>0</td>\n      <td>1</td>\n    </tr>\n    <tr>\n      <th>54866</th>\n      <td>e4052622e5ba45a8b96b59aba68cf068</td>\n      <td>408</td>\n      <td>546</td>\n      <td>480</td>\n      <td>5</td>\n      <td>f19421c1d4aa40978ebb69ca19b0e20d</td>\n      <td>F</td>\n      <td>62</td>\n      <td>20170722</td>\n      <td>82000.0</td>\n      <td>5</td>\n      <td>5</td>\n      <td>5</td>\n      <td>bogo</td>\n      <td>1</td>\n      <td>1</td>\n      <td>1</td>\n      <td>1</td>\n    </tr>\n  </tbody>\n</table>\n<p>54867 rows × 18 columns</p>\n</div>"
     },
     "metadata": {},
     "execution_count": 111
    }
   ],
   "source": [
    "offers_profile_complete = pd.merge(offers_profile, portfolio, on=['offer'], how='left')\n",
    "offers_profile_complete.drop(['channels'], inplace=True, axis=1)\n",
    "offers_profile_complete"
   ]
  },
  {
   "cell_type": "code",
   "execution_count": 113,
   "metadata": {},
   "outputs": [],
   "source": [
    "offers_profile_complete.rename(columns={'reward_x': 'reward_received', 'reward_y': 'reward_to_receive'}, inplace=True)"
   ]
  },
  {
   "cell_type": "code",
   "execution_count": 114,
   "metadata": {},
   "outputs": [],
   "source": [
    "offers_df.to_csv(\"processed_data/processed_offers.csv\")"
   ]
  }
 ],
 "metadata": {
  "kernelspec": {
   "name": "python3",
   "display_name": "Python 3.8.2 64-bit ('venture': conda)"
  },
  "language_info": {
   "codemirror_mode": {
    "name": "ipython",
    "version": 3
   },
   "file_extension": ".py",
   "mimetype": "text/x-python",
   "name": "python",
   "nbconvert_exporter": "python",
   "pygments_lexer": "ipython3",
   "version": "3.8.2"
  },
  "interpreter": {
   "hash": "36aba71e7507b7018449e68f5e9266454771fe751f4c18b9627f7b61ab514f84"
  }
 },
 "nbformat": 4,
 "nbformat_minor": 2
}